{
 "cells": [
  {
   "cell_type": "code",
   "execution_count": null,
   "metadata": {},
   "outputs": [
    {
     "ename": "",
     "evalue": "",
     "output_type": "error",
     "traceback": [
      "\u001b[1;31mRunning cells with 'Python 3.10.7 64-bit' requires ipykernel package.\n",
      "\u001b[1;31mRun the following command to install 'ipykernel' into the Python environment. \n",
      "\u001b[1;31mCommand: 'c:/python/python.exe -m pip install ipykernel -U --user --force-reinstall'"
     ]
    }
   ],
   "source": [
    "import matplotlib.pyplot as plt\n",
    "\n",
    "cardiac_cycle = [62, 60, 62, 64, 68, 77, 80, 76, 71, 66, 61, 60, 62]\n",
    "\n",
    "\n",
    "expected_cycles = cardiac_cycle[1:-2] * 10\n",
    "\n",
    "print(expected_cycles)\n",
    "\n",
    "plt.plot(expected_cycles)\n",
    "plt.show()\n"
   ]
  },
  {
   "cell_type": "code",
   "execution_count": null,
   "metadata": {},
   "outputs": [
    {
     "ename": "",
     "evalue": "",
     "output_type": "error",
     "traceback": [
      "\u001b[1;31mRunning cells with 'Python 3.10.7 64-bit' requires ipykernel package.\n",
      "\u001b[1;31mRun the following command to install 'ipykernel' into the Python environment. \n",
      "\u001b[1;31mCommand: 'c:/python/python.exe -m pip install ipykernel -U --user --force-reinstall'"
     ]
    }
   ],
   "source": [
    "import numpy as np\n",
    "import matplotlib.pyplot as plt\n",
    "\n",
    "sequence = np.random.normal(10.0, 1.0, 500)\n",
    "# print(sequence)\n",
    "\n",
    "with plt.xkcd():\n",
    "    plt.hist(sequence)\n",
    "    plt.annotate(r\"$\\omega_1=9$\", (9, 70))\n",
    "    plt.annotate(r\"$\\omega_2=11$\", (11, 70))\n",
    "    plt.annotate(r\"$\\mu=10$\", (10, 90))\n",
    "    plt.savefig(\"plot.jpg\")\n",
    "    plt.show()\n"
   ]
  },
  {
   "cell_type": "code",
   "execution_count": null,
   "metadata": {},
   "outputs": [
    {
     "ename": "",
     "evalue": "",
     "output_type": "error",
     "traceback": [
      "\u001b[1;31mRunning cells with 'Python 3.10.7 64-bit' requires ipykernel package.\n",
      "\u001b[1;31mRun the following command to install 'ipykernel' into the Python environment. \n",
      "\u001b[1;31mCommand: 'c:/python/python.exe -m pip install ipykernel -U --user --force-reinstall'"
     ]
    }
   ],
   "source": [
    "import folium\n",
    "\n",
    "# Import folium MarkerCluster plugin\n",
    "from folium.plugins import MarkerCluster\n",
    "# Import folium MousePosition plugin\n",
    "from folium.plugins import MousePosition\n",
    "# Import folium DivIcon plugin\n",
    "from folium.features import DivIcon\n",
    "\n",
    "# generate map of Russia\n",
    "russia_map = folium.Map(\n",
    "    location=[64.6863136, 97.7453061],    # широта и долгота России\n",
    "    zoom_start=4\n",
    ")\n",
    "\n",
    "# add a red marker to Saint Petersburg\n",
    "# create a feature group\n",
    "saint_petersburg = folium.map.FeatureGroup()\n",
    "\n",
    "# style the feature group\n",
    "saint_petersburg.add_child(\n",
    "    folium.features.CircleMarker(\n",
    "        # широта и долгота Санкт-Петербурга\n",
    "        [59.938732, 30.316229], radius=5,\n",
    "        color='red', fill_color='Red'\n",
    "    )\n",
    ")\n",
    "\n",
    "# add the feature group to the map\n",
    "russia_map.add_child(saint_petersburg)\n",
    "\n",
    "# label the Marker (пометить маркер)\n",
    "folium.Marker([59.938732, 30.316229],         # широта и долгота Санкт-Петербурга\n",
    "              popup='Санкт-Петербург, в разговорной речи - Пи́тер, сокр.- СПб').add_to(russia_map)\n",
    "\n",
    "# display russia map\n",
    "russia_map\n"
   ]
  },
  {
   "cell_type": "code",
   "execution_count": null,
   "metadata": {},
   "outputs": [
    {
     "ename": "",
     "evalue": "",
     "output_type": "error",
     "traceback": [
      "\u001b[1;31mRunning cells with 'Python 3.10.7 64-bit' requires ipykernel package.\n",
      "\u001b[1;31mRun the following command to install 'ipykernel' into the Python environment. \n",
      "\u001b[1;31mCommand: 'c:/python/python.exe -m pip install ipykernel -U --user --force-reinstall'"
     ]
    }
   ],
   "source": [
    "import sys\n",
    "\n",
    "print(sys.version)\n",
    "print(sys.version_info)"
   ]
  }
 ],
 "metadata": {
  "kernelspec": {
   "display_name": "Python 3.10.7 64-bit",
   "language": "python",
   "name": "python3"
  },
  "language_info": {
   "codemirror_mode": {
    "name": "ipython",
    "version": 3
   },
   "file_extension": ".py",
   "mimetype": "text/x-python",
   "name": "python",
   "nbconvert_exporter": "python",
   "pygments_lexer": "ipython3",
   "version": "3.10.7"
  },
  "orig_nbformat": 4,
  "vscode": {
   "interpreter": {
    "hash": "fbe58ca63fe33f9eeae9e71d10368d2b4a57f2b1b395836210cc60d362c66949"
   }
  }
 },
 "nbformat": 4,
 "nbformat_minor": 2
}
