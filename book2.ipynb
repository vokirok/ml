{
 "cells": [
  {
   "cell_type": "code",
   "execution_count": 2,
   "metadata": {},
   "outputs": [
    {
     "data": {
      "text/plain": "<folium.folium.Map at 0x1b60190f1d0>",
      "text/html": "<div style=\"width:100%;\"><div style=\"position:relative;width:100%;height:0;padding-bottom:60%;\"><span style=\"color:#565656\">Make this Notebook Trusted to load map: File -> Trust Notebook</span><iframe srcdoc=\"&lt;!DOCTYPE html&gt;\n&lt;html&gt;\n&lt;head&gt;\n    \n    &lt;meta http-equiv=&quot;content-type&quot; content=&quot;text/html; charset=UTF-8&quot; /&gt;\n    \n        &lt;script&gt;\n            L_NO_TOUCH = false;\n            L_DISABLE_3D = false;\n        &lt;/script&gt;\n    \n    &lt;style&gt;html, body {width: 100%;height: 100%;margin: 0;padding: 0;}&lt;/style&gt;\n    &lt;style&gt;#map {position:absolute;top:0;bottom:0;right:0;left:0;}&lt;/style&gt;\n    &lt;script src=&quot;https://cdn.jsdelivr.net/npm/leaflet@1.6.0/dist/leaflet.js&quot;&gt;&lt;/script&gt;\n    &lt;script src=&quot;https://code.jquery.com/jquery-1.12.4.min.js&quot;&gt;&lt;/script&gt;\n    &lt;script src=&quot;https://maxcdn.bootstrapcdn.com/bootstrap/3.2.0/js/bootstrap.min.js&quot;&gt;&lt;/script&gt;\n    &lt;script src=&quot;https://cdnjs.cloudflare.com/ajax/libs/Leaflet.awesome-markers/2.0.2/leaflet.awesome-markers.js&quot;&gt;&lt;/script&gt;\n    &lt;link rel=&quot;stylesheet&quot; href=&quot;https://cdn.jsdelivr.net/npm/leaflet@1.6.0/dist/leaflet.css&quot;/&gt;\n    &lt;link rel=&quot;stylesheet&quot; href=&quot;https://maxcdn.bootstrapcdn.com/bootstrap/3.2.0/css/bootstrap.min.css&quot;/&gt;\n    &lt;link rel=&quot;stylesheet&quot; href=&quot;https://maxcdn.bootstrapcdn.com/bootstrap/3.2.0/css/bootstrap-theme.min.css&quot;/&gt;\n    &lt;link rel=&quot;stylesheet&quot; href=&quot;https://maxcdn.bootstrapcdn.com/font-awesome/4.6.3/css/font-awesome.min.css&quot;/&gt;\n    &lt;link rel=&quot;stylesheet&quot; href=&quot;https://cdnjs.cloudflare.com/ajax/libs/Leaflet.awesome-markers/2.0.2/leaflet.awesome-markers.css&quot;/&gt;\n    &lt;link rel=&quot;stylesheet&quot; href=&quot;https://cdn.jsdelivr.net/gh/python-visualization/folium/folium/templates/leaflet.awesome.rotate.min.css&quot;/&gt;\n    \n            &lt;meta name=&quot;viewport&quot; content=&quot;width=device-width,\n                initial-scale=1.0, maximum-scale=1.0, user-scalable=no&quot; /&gt;\n            &lt;style&gt;\n                #map_591bae240c88adb94253baab3f6fd4d4 {\n                    position: relative;\n                    width: 100.0%;\n                    height: 100.0%;\n                    left: 0.0%;\n                    top: 0.0%;\n                }\n            &lt;/style&gt;\n        \n&lt;/head&gt;\n&lt;body&gt;\n    \n    \n            &lt;div class=&quot;folium-map&quot; id=&quot;map_591bae240c88adb94253baab3f6fd4d4&quot; &gt;&lt;/div&gt;\n        \n&lt;/body&gt;\n&lt;script&gt;\n    \n    \n            var map_591bae240c88adb94253baab3f6fd4d4 = L.map(\n                &quot;map_591bae240c88adb94253baab3f6fd4d4&quot;,\n                {\n                    center: [64.6863136, 97.7453061],\n                    crs: L.CRS.EPSG3857,\n                    zoom: 4,\n                    zoomControl: true,\n                    preferCanvas: false,\n                }\n            );\n\n            \n\n        \n    \n            var tile_layer_f433a49faf2f455c666353a3fb1ead32 = L.tileLayer(\n                &quot;https://{s}.tile.openstreetmap.org/{z}/{x}/{y}.png&quot;,\n                {&quot;attribution&quot;: &quot;Data by \\u0026copy; \\u003ca href=\\&quot;http://openstreetmap.org\\&quot;\\u003eOpenStreetMap\\u003c/a\\u003e, under \\u003ca href=\\&quot;http://www.openstreetmap.org/copyright\\&quot;\\u003eODbL\\u003c/a\\u003e.&quot;, &quot;detectRetina&quot;: false, &quot;maxNativeZoom&quot;: 18, &quot;maxZoom&quot;: 18, &quot;minZoom&quot;: 0, &quot;noWrap&quot;: false, &quot;opacity&quot;: 1, &quot;subdomains&quot;: &quot;abc&quot;, &quot;tms&quot;: false}\n            ).addTo(map_591bae240c88adb94253baab3f6fd4d4);\n        \n    \n            var feature_group_98ae48067789202c4d6bf357a57ab4b4 = L.featureGroup(\n                {}\n            ).addTo(map_591bae240c88adb94253baab3f6fd4d4);\n        \n    \n            var circle_marker_58dcf9f2d269e2aa32af33a13ce84247 = L.circleMarker(\n                [59.938732, 30.316229],\n                {&quot;bubblingMouseEvents&quot;: true, &quot;color&quot;: &quot;red&quot;, &quot;dashArray&quot;: null, &quot;dashOffset&quot;: null, &quot;fill&quot;: true, &quot;fillColor&quot;: &quot;Red&quot;, &quot;fillOpacity&quot;: 0.2, &quot;fillRule&quot;: &quot;evenodd&quot;, &quot;lineCap&quot;: &quot;round&quot;, &quot;lineJoin&quot;: &quot;round&quot;, &quot;opacity&quot;: 1.0, &quot;radius&quot;: 5, &quot;stroke&quot;: true, &quot;weight&quot;: 3}\n            ).addTo(feature_group_98ae48067789202c4d6bf357a57ab4b4);\n        \n    \n            var marker_441cb7904d0e7facf77ec516d2dc753c = L.marker(\n                [59.938732, 30.316229],\n                {}\n            ).addTo(map_591bae240c88adb94253baab3f6fd4d4);\n        \n    \n        var popup_6cc5e694c55c9e10784361d6192ebebe = L.popup({&quot;maxWidth&quot;: &quot;100%&quot;});\n\n        \n            \n                var html_dead1a29bdec30d3c838ca2b4d709a3f = $(`&lt;div id=&quot;html_dead1a29bdec30d3c838ca2b4d709a3f&quot; style=&quot;width: 100.0%; height: 100.0%;&quot;&gt;Санкт-Петербург, в разговорной речи - Пи́тер, сокр.- СПб&lt;/div&gt;`)[0];\n                popup_6cc5e694c55c9e10784361d6192ebebe.setContent(html_dead1a29bdec30d3c838ca2b4d709a3f);\n            \n        \n\n        marker_441cb7904d0e7facf77ec516d2dc753c.bindPopup(popup_6cc5e694c55c9e10784361d6192ebebe)\n        ;\n\n        \n    \n&lt;/script&gt;\n&lt;/html&gt;\" style=\"position:absolute;width:100%;height:100%;left:0;top:0;border:none !important;\" allowfullscreen webkitallowfullscreen mozallowfullscreen></iframe></div></div>"
     },
     "execution_count": 2,
     "metadata": {},
     "output_type": "execute_result"
    }
   ],
   "source": [
    "import folium\n",
    "\n",
    "# Import folium MarkerCluster plugin\n",
    "from folium.plugins import MarkerCluster\n",
    "# Import folium MousePosition plugin\n",
    "from folium.plugins import MousePosition\n",
    "# Import folium DivIcon plugin\n",
    "from folium.features import DivIcon\n",
    "\n",
    "# generate map of Russia\n",
    "russia_map = folium.Map(\n",
    "    location=[64.6863136, 97.7453061],    # широта и долгота России\n",
    "    zoom_start=4\n",
    ")\n",
    "\n",
    "# add a red marker to Saint Petersburg\n",
    "# create a feature group\n",
    "saint_petersburg = folium.map.FeatureGroup()\n",
    "\n",
    "# style the feature group\n",
    "saint_petersburg.add_child(\n",
    "    folium.features.CircleMarker(\n",
    "        # широта и долгота Санкт-Петербурга\n",
    "        (59.938732, 30.316229), radius=5,\n",
    "        color='red', fill_color='Red'\n",
    "    )\n",
    ")\n",
    "\n",
    "# add the feature group to the map\n",
    "russia_map.add_child(saint_petersburg)\n",
    "\n",
    "# label the Marker (пометить маркер)\n",
    "folium.Marker([59.938732, 30.316229],         # широта и долгота Санкт-Петербурга\n",
    "              popup='Санкт-Петербург, в разговорной речи - Пи́тер, сокр.- СПб').add_to(russia_map)\n",
    "\n",
    "# display russia map\n",
    "russia_map\n"
   ]
  }
 ],
 "metadata": {
  "kernelspec": {
   "display_name": "Python 3.10.7 ('.venv': venv)",
   "language": "python",
   "name": "python3"
  },
  "language_info": {
   "codemirror_mode": {
    "name": "ipython",
    "version": 3
   },
   "file_extension": ".py",
   "mimetype": "text/x-python",
   "name": "python",
   "nbconvert_exporter": "python",
   "pygments_lexer": "ipython3",
   "version": "3.10.7"
  },
  "orig_nbformat": 4,
  "vscode": {
   "interpreter": {
    "hash": "b38ef3a5835938b2f8db5fd2fb89371b14648e944506ebfe70dbe442c9b4bdf2"
   }
  }
 },
 "nbformat": 4,
 "nbformat_minor": 2
}
